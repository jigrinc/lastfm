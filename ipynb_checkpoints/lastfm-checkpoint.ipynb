{
 "metadata": {
  "name": ""
 },
 "nbformat": 3,
 "nbformat_minor": 0,
 "worksheets": [
  {
   "cells": [
    {
     "cell_type": "markdown",
     "metadata": {},
     "source": [
      "**Importar datos:** los usuarios quedan en `users` y las reproducciones quedan en `plays`.  El archivo de reproducciones **no** es el original que se descarga de http://konect.uni-koblenz.de/networks/lastfm_song, sino una versi\u00f3n reducida que elimina los ids de canciones y artistas. Esto reduce el tama\u00f1o del archivo a la mitad. La reducci\u00f3n se hace por l\u00ednea de comando con `cut`."
     ]
    },
    {
     "cell_type": "code",
     "collapsed": false,
     "input": [
      "import pandas as pd\n",
      "wdir = '/Users/jigr/Documents/lastfm-dataset-1K/'\n",
      "\n",
      "users = pd.DataFrame.from_csv(wdir + \"userid-profile.tsv\", sep='\\t');\n",
      "plays = pd.read_csv(wdir + \"noIds.tsv\", sep='\\t', header=None, error_bad_lines=False);"
     ],
     "language": "python",
     "metadata": {},
     "outputs": [
      {
       "output_type": "stream",
       "stream": "stderr",
       "text": [
        "Skipping line 2120260: expected 4 fields, saw 5\n",
        "\n",
        "Skipping line 2446318: expected 4 fields, saw 5\n"
       ]
      },
      {
       "output_type": "stream",
       "stream": "stderr",
       "text": [
        "\n",
        "Skipping line 11141081: expected 4 fields, saw 5\n"
       ]
      },
      {
       "output_type": "stream",
       "stream": "stderr",
       "text": [
        "\n",
        "Skipping line 11152099: expected 4 fields, saw 7\n",
        "Skipping line 11152402: expected 4 fields, saw 5\n"
       ]
      },
      {
       "output_type": "stream",
       "stream": "stderr",
       "text": [
        "\n",
        "Skipping line 11882087: expected 4 fields, saw 5\n"
       ]
      },
      {
       "output_type": "stream",
       "stream": "stderr",
       "text": [
        "\n",
        "Skipping line 12902539: expected 4 fields, saw 5\n",
        "Skipping line 12935044: expected 4 fields, saw 5\n"
       ]
      },
      {
       "output_type": "stream",
       "stream": "stderr",
       "text": [
        "\n",
        "Skipping line 17589539: expected 4 fields, saw 5\n"
       ]
      },
      {
       "output_type": "stream",
       "stream": "stderr",
       "text": [
        "\n"
       ]
      }
     ],
     "prompt_number": 8
    },
    {
     "cell_type": "markdown",
     "metadata": {},
     "source": [
      "**Transformaciones previas:**\n",
      "\n",
      " * poner nombres a las columnas\n",
      " * cambiar la fecha-hora de reproducci\u00f3n de tipo _string_ a _datetime_\n",
      " * ordenar la tabla por usuario y fecha-hora de reproducci\u00f3n para contar con reproducciones consecutivas"
     ]
    },
    {
     "cell_type": "code",
     "collapsed": false,
     "input": [
      "from datetime import datetime\n",
      "\n",
      "plays.rename(columns={0:'user', 1:'datetime', 2:'artist', 3:'song'}, inplace=True)\n",
      "plays['datetime'] = pd.Series([datetime.strptime(dt,'%Y-%m-%dT%H:%M:%SZ') for dt in plays['datetime']])\n",
      "plays.sort(['user','datetime'], ascending=[1, 1], inplace=True)"
     ],
     "language": "python",
     "metadata": {},
     "outputs": [],
     "prompt_number": 9
    },
    {
     "cell_type": "markdown",
     "metadata": {},
     "source": [
      "Se calculan diferencias de la fecha-hora de reproducci\u00f3n entre reproducciones sucesivas para aprender a delimitar entre cambios de _sesiones de escucha_ y simples saltos de canci\u00f3n. "
     ]
    },
    {
     "cell_type": "code",
     "collapsed": false,
     "input": [
      "subset = plays\n",
      "df1 = pd.concat([subset.user, (subset.user == subset.user.shift(1)), subset.datetime.diff()], axis = 1)\n",
      "df1.columns = ['user','same_user','runtime']\n",
      "df1['runtime_minutes'] = [x.item().total_seconds()/60 for x in subset.datetime.diff()]\n",
      "df1 = df1[df1['same_user']==True]\n",
      "df1.head()"
     ],
     "language": "python",
     "metadata": {},
     "outputs": [
      {
       "html": [
        "<div style=\"max-height:1000px;max-width:1500px;overflow:auto;\">\n",
        "<table border=\"1\" class=\"dataframe\">\n",
        "  <thead>\n",
        "    <tr style=\"text-align: right;\">\n",
        "      <th></th>\n",
        "      <th>user</th>\n",
        "      <th>same_user</th>\n",
        "      <th>runtime</th>\n",
        "      <th>runtime_minutes</th>\n",
        "    </tr>\n",
        "  </thead>\n",
        "  <tbody>\n",
        "    <tr>\n",
        "      <th>16683</th>\n",
        "      <td> user_000001</td>\n",
        "      <td> True</td>\n",
        "      <td>00:04:09</td>\n",
        "      <td> 4.150000</td>\n",
        "    </tr>\n",
        "    <tr>\n",
        "      <th>16682</th>\n",
        "      <td> user_000001</td>\n",
        "      <td> True</td>\n",
        "      <td>00:07:14</td>\n",
        "      <td> 7.233333</td>\n",
        "    </tr>\n",
        "    <tr>\n",
        "      <th>16681</th>\n",
        "      <td> user_000001</td>\n",
        "      <td> True</td>\n",
        "      <td>00:06:57</td>\n",
        "      <td> 6.950000</td>\n",
        "    </tr>\n",
        "    <tr>\n",
        "      <th>16680</th>\n",
        "      <td> user_000001</td>\n",
        "      <td> True</td>\n",
        "      <td>00:01:26</td>\n",
        "      <td> 1.433333</td>\n",
        "    </tr>\n",
        "    <tr>\n",
        "      <th>16679</th>\n",
        "      <td> user_000001</td>\n",
        "      <td> True</td>\n",
        "      <td>00:03:57</td>\n",
        "      <td> 3.950000</td>\n",
        "    </tr>\n",
        "  </tbody>\n",
        "</table>\n",
        "<p>5 rows \u00d7 4 columns</p>\n",
        "</div>"
       ],
       "metadata": {},
       "output_type": "pyout",
       "prompt_number": 84,
       "text": [
        "              user same_user  runtime  runtime_minutes\n",
        "16683  user_000001      True 00:04:09         4.150000\n",
        "16682  user_000001      True 00:07:14         7.233333\n",
        "16681  user_000001      True 00:06:57         6.950000\n",
        "16680  user_000001      True 00:01:26         1.433333\n",
        "16679  user_000001      True 00:03:57         3.950000\n",
        "\n",
        "[5 rows x 4 columns]"
       ]
      }
     ],
     "prompt_number": 84
    },
    {
     "cell_type": "markdown",
     "metadata": {},
     "source": [
      "Tomar percentiles de la variable _runtime_minutes_ revela que en alrededor del 4% de los casos los cambios de canci\u00f3n son en realidad cambios de sesi\u00f3n. Esto supone que cuando una reproducci\u00f3n toma m\u00e1s de 54 minutos en realidad el usuario est\u00e1 iniciando una nueva sesi\u00f3n de escucha, sujeta a analizarse como unidad. "
     ]
    },
    {
     "cell_type": "code",
     "collapsed": false,
     "input": [
      "pd.qcut(df1['runtime_minutes'], 50)"
     ],
     "language": "python",
     "metadata": {},
     "outputs": [
      {
       "metadata": {},
       "output_type": "pyout",
       "prompt_number": 85,
       "text": [
        " (4.0667, 4.15]\n",
        "  (6.75, 7.367]\n",
        "  (6.75, 7.367]\n",
        "       (1, 1.6]\n",
        "     (3.933, 4]\n",
        "  (15.8, 54.25]\n",
        " (10.133, 15.8]\n",
        "   (4.65, 4.75]\n",
        " (5.283, 5.483]\n",
        "  (1.95, 2.167]\n",
        "   (4.75, 4.85]\n",
        " (5.283, 5.483]\n",
        " (5.483, 5.683]\n",
        "...\n",
        "            (4, 4.0667]\n",
        "          (4.15, 4.217]\n",
        "       (54.25, 493.517]\n",
        "         (5.283, 5.483]\n",
        "          (4.533, 4.65]\n",
        "         (4.0667, 4.15]\n",
        " (493.517, 2320830.283]\n",
        "       (54.25, 493.517]\n",
        "          (2.35, 2.517]\n",
        "            (1.6, 1.95]\n",
        "        (2.983, 3.0667]\n",
        " (493.517, 2320830.283]\n",
        "          (4.15, 4.217]\n",
        "Levels (50): Index([[0, 1], (1, 1.6], (1.6, 1.95], (1.95, 2.167],\n",
        "                    (2.167, 2.35], (2.35, 2.517], (2.517, 2.65],\n",
        "                    (2.65, 2.767], (2.767, 2.883], (2.883, 2.983],\n",
        "                    (2.983, 3.0667], (3.0667, 3.15], (3.15, 3.217],\n",
        "                    (3.217, 3.3], (3.3, 3.367], (3.367, 3.433],\n",
        "                    (3.433, 3.5], (3.5, 3.567], (3.567, 3.633],\n",
        "                    (3.633, 3.683], (3.683, 3.75], (3.75, 3.817],\n",
        "                    (3.817, 3.867], (3.867, 3.933], (3.933, 4],\n",
        "                    (4, 4.0667], (4.0667, 4.15], (4.15, 4.217],\n",
        "                    (4.217, 4.283], (4.283, 4.367], (4.367, 4.45],\n",
        "                    (4.45, 4.533], (4.533, 4.65], (4.65, 4.75],\n",
        "                    (4.75, 4.85], (4.85, 5], (5, 5.133], (5.133, 5.283],\n",
        "                    (5.283, 5.483], (5.483, 5.683], (5.683, 5.967],\n",
        "                    (5.967, 6.3], (6.3, 6.75], (6.75, 7.367],\n",
        "                    (7.367, 8.317], (8.317, 10.133], (10.133, 15.8],\n",
        "                    (15.8, 54.25], (54.25, 493.517],\n",
        "                    (493.517, 2320830.283]], dtype=object)\n",
        "Name: runtime_minutes, Length: 19097861"
       ]
      }
     ],
     "prompt_number": 85
    },
    {
     "cell_type": "markdown",
     "metadata": {},
     "source": [
      "Aqu\u00ed se puede apreciar un histograma de los tiempos de reproducci\u00f3n:"
     ]
    },
    {
     "cell_type": "code",
     "collapsed": false,
     "input": [
      "import plotly\n",
      "py = plotly.plotly(\"jigrinc\", \"orbtshlb7h\")\n",
      "\n",
      "from numpy import *\n",
      "\n",
      "data = {'x': df1['runtime_minutes'][0:100000],'type': 'histogramx'}\n",
      "l = {'autosize': False,'width': 800, 'height': 600, 'showlegend': False}\n",
      "py.plot([data], layout=l)"
     ],
     "language": "python",
     "metadata": {},
     "outputs": [
      {
       "metadata": {},
       "output_type": "pyout",
       "prompt_number": 79,
       "text": [
        "{u'error': u'',\n",
        " u'filename': u'plot from API (1)',\n",
        " u'message': u'',\n",
        " u'url': u'https://plot.ly/~jigrinc/2',\n",
        " u'warning': u''}"
       ]
      }
     ],
     "prompt_number": 79
    },
    {
     "cell_type": "markdown",
     "metadata": {},
     "source": [
      "Ahora es necesario enumerar las sesiones de escucha para distinguirlas en los datos"
     ]
    },
    {
     "cell_type": "code",
     "collapsed": false,
     "input": [
      "subset = plays[0:200000]\n",
      "df1 = pd.concat([subset.user, (subset.user == subset.user.shift(1)), subset.datetime.diff()], axis = 1)\n",
      "df1.columns = ['user','same_user','runtime']\n",
      "df1['runtime_minutes'] = [x.item().total_seconds()/60 for x in subset.datetime.diff()]\n",
      "df1['new_session'] = df1['runtime_minutes'] > 60\n",
      "df1['sessionID'] = df1.new_session.cumsum()\n",
      "#df1 = df1[df1['same_user']==True]\n",
      "df1.head()"
     ],
     "language": "python",
     "metadata": {},
     "outputs": [
      {
       "html": [
        "<div style=\"max-height:1000px;max-width:1500px;overflow:auto;\">\n",
        "<table border=\"1\" class=\"dataframe\">\n",
        "  <thead>\n",
        "    <tr style=\"text-align: right;\">\n",
        "      <th></th>\n",
        "      <th>user</th>\n",
        "      <th>same_user</th>\n",
        "      <th>runtime</th>\n",
        "      <th>runtime_minutes</th>\n",
        "      <th>new_session</th>\n",
        "      <th>sessionID</th>\n",
        "    </tr>\n",
        "  </thead>\n",
        "  <tbody>\n",
        "    <tr>\n",
        "      <th>16684</th>\n",
        "      <td> user_000001</td>\n",
        "      <td> False</td>\n",
        "      <td>     NaT</td>\n",
        "      <td> 1.537229e+08</td>\n",
        "      <td>  True</td>\n",
        "      <td> 1</td>\n",
        "    </tr>\n",
        "    <tr>\n",
        "      <th>16683</th>\n",
        "      <td> user_000001</td>\n",
        "      <td>  True</td>\n",
        "      <td>00:04:09</td>\n",
        "      <td> 4.150000e+00</td>\n",
        "      <td> False</td>\n",
        "      <td> 1</td>\n",
        "    </tr>\n",
        "    <tr>\n",
        "      <th>16682</th>\n",
        "      <td> user_000001</td>\n",
        "      <td>  True</td>\n",
        "      <td>00:07:14</td>\n",
        "      <td> 7.233333e+00</td>\n",
        "      <td> False</td>\n",
        "      <td> 1</td>\n",
        "    </tr>\n",
        "    <tr>\n",
        "      <th>16681</th>\n",
        "      <td> user_000001</td>\n",
        "      <td>  True</td>\n",
        "      <td>00:06:57</td>\n",
        "      <td> 6.950000e+00</td>\n",
        "      <td> False</td>\n",
        "      <td> 1</td>\n",
        "    </tr>\n",
        "    <tr>\n",
        "      <th>16680</th>\n",
        "      <td> user_000001</td>\n",
        "      <td>  True</td>\n",
        "      <td>00:01:26</td>\n",
        "      <td> 1.433333e+00</td>\n",
        "      <td> False</td>\n",
        "      <td> 1</td>\n",
        "    </tr>\n",
        "  </tbody>\n",
        "</table>\n",
        "<p>5 rows \u00d7 6 columns</p>\n",
        "</div>"
       ],
       "metadata": {},
       "output_type": "pyout",
       "prompt_number": 103,
       "text": [
        "              user same_user  runtime  runtime_minutes new_session  sessionID\n",
        "16684  user_000001     False      NaT     1.537229e+08        True          1\n",
        "16683  user_000001      True 00:04:09     4.150000e+00       False          1\n",
        "16682  user_000001      True 00:07:14     7.233333e+00       False          1\n",
        "16681  user_000001      True 00:06:57     6.950000e+00       False          1\n",
        "16680  user_000001      True 00:01:26     1.433333e+00       False          1\n",
        "\n",
        "[5 rows x 6 columns]"
       ]
      }
     ],
     "prompt_number": 103
    },
    {
     "cell_type": "code",
     "collapsed": false,
     "input": [],
     "language": "python",
     "metadata": {},
     "outputs": [
      {
       "metadata": {},
       "output_type": "pyout",
       "prompt_number": 102,
       "text": [
        "16684    1\n",
        "16683    1\n",
        "16682    1\n",
        "16681    1\n",
        "16680    1\n",
        "16679    1\n",
        "16678    1\n",
        "16677    1\n",
        "16676    1\n",
        "16675    1\n",
        "16674    1\n",
        "16673    1\n",
        "16672    1\n",
        "16671    1\n",
        "16670    1\n",
        "...\n",
        "164937    8581\n",
        "164936    8581\n",
        "164935    8581\n",
        "164934    8581\n",
        "164933    8581\n",
        "164932    8581\n",
        "164931    8581\n",
        "164930    8581\n",
        "164929    8581\n",
        "164928    8581\n",
        "164927    8581\n",
        "164926    8581\n",
        "164925    8581\n",
        "164924    8581\n",
        "164923    8581\n",
        "Name: new_session, Length: 200000, dtype: int64"
       ]
      }
     ],
     "prompt_number": 102
    },
    {
     "cell_type": "code",
     "collapsed": false,
     "input": [],
     "language": "python",
     "metadata": {},
     "outputs": [],
     "prompt_number": 23
    },
    {
     "cell_type": "code",
     "collapsed": false,
     "input": [],
     "language": "python",
     "metadata": {},
     "outputs": [],
     "prompt_number": 74
    },
    {
     "cell_type": "code",
     "collapsed": false,
     "input": [],
     "language": "python",
     "metadata": {},
     "outputs": []
    }
   ],
   "metadata": {}
  }
 ]
}