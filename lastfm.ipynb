{
 "metadata": {
  "name": ""
 },
 "nbformat": 3,
 "nbformat_minor": 0,
 "worksheets": [
  {
   "cells": [
    {
     "cell_type": "markdown",
     "metadata": {},
     "source": [
      "**Importar datos:** los usuarios quedan en `users` y las reproducciones quedan en `plays`"
     ]
    },
    {
     "cell_type": "code",
     "collapsed": false,
     "input": [
      "import pandas as pd\n",
      "wdir = '/Users/jigr/Documents/lastfm-dataset-1K/'\n",
      "\n",
      "users = pd.DataFrame.from_csv(wdir + \"userid-profile.tsv\", sep='\\t');\n",
      "plays = pd.read_csv(wdir + \"noIds.tsv\", sep='\\t', header=None, error_bad_lines=False);"
     ],
     "language": "python",
     "metadata": {},
     "outputs": [
      {
       "output_type": "stream",
       "stream": "stderr",
       "text": [
        "Skipping line 2120260: expected 4 fields, saw 5\n",
        "\n",
        "Skipping line 2446318: expected 4 fields, saw 5\n"
       ]
      },
      {
       "output_type": "stream",
       "stream": "stderr",
       "text": [
        "\n",
        "Skipping line 11141081: expected 4 fields, saw 5\n"
       ]
      },
      {
       "output_type": "stream",
       "stream": "stderr",
       "text": [
        "\n",
        "Skipping line 11152099: expected 4 fields, saw 7\n",
        "Skipping line 11152402: expected 4 fields, saw 5\n"
       ]
      },
      {
       "output_type": "stream",
       "stream": "stderr",
       "text": [
        "\n",
        "Skipping line 11882087: expected 4 fields, saw 5\n"
       ]
      },
      {
       "output_type": "stream",
       "stream": "stderr",
       "text": [
        "\n",
        "Skipping line 12902539: expected 4 fields, saw 5\n",
        "Skipping line 12935044: expected 4 fields, saw 5\n"
       ]
      },
      {
       "output_type": "stream",
       "stream": "stderr",
       "text": [
        "\n",
        "Skipping line 17589539: expected 4 fields, saw 5\n"
       ]
      },
      {
       "output_type": "stream",
       "stream": "stderr",
       "text": [
        "\n"
       ]
      }
     ],
     "prompt_number": 31
    },
    {
     "cell_type": "markdown",
     "metadata": {},
     "source": [
      "**Cambios de formato:** \n",
      "    (1) poner nombres a las columnas\n",
      "    (2) cambiar la fecha-hora de reproducci\u00f3n de tipo _string_ a _datetime_\n",
      "    (3) ordenar la tabla por usuario "
     ]
    },
    {
     "cell_type": "code",
     "collapsed": false,
     "input": [
      "from datetime import datetime\n",
      "\n",
      "plays.rename(columns={0:'user', 1:'datetime', 2:'artist', 3:'song'}, inplace=True)\n",
      "plays['datetime'] = pd.Series([datetime.strptime(dt,'%Y-%m-%dT%H:%M:%SZ') for dt in plays['datetime']])\n",
      "plays.sort(['user','datetime'], ascending=[1, 0], inplace=True)"
     ],
     "language": "python",
     "metadata": {},
     "outputs": [],
     "prompt_number": 35
    },
    {
     "cell_type": "markdown",
     "metadata": {},
     "source": [
      "Aqu\u00ed estoy tratando de sacar las diferencias entre tiempos de reproducci\u00f3n, pero creo que se puede optimizar mucho, corre super lento."
     ]
    },
    {
     "cell_type": "code",
     "collapsed": false,
     "input": [
      "m =  len(plays)\n",
      "delta = range(1,m+1) \n",
      "for i in range(1,m):\n",
      "    if plays['user'][i] == plays['user'][i-1]:\n",
      "        delta[i] = (plays['datetime'][i-1] - plays['datetime'][i]).total_seconds()\n",
      "    else:\n",
      "        delta[i] = 100000"
     ],
     "language": "python",
     "metadata": {},
     "outputs": [],
     "prompt_number": 67
    },
    {
     "cell_type": "code",
     "collapsed": false,
     "input": [
      "import matplotlib.pyplot as plt\n",
      "\n",
      "plt.hist(delta, 100, normed=0, histtype='stepfilled')\n",
      "plt.show()"
     ],
     "language": "python",
     "metadata": {},
     "outputs": [],
     "prompt_number": 68
    },
    {
     "cell_type": "code",
     "collapsed": false,
     "input": [
      "delta[:100]"
     ],
     "language": "python",
     "metadata": {},
     "outputs": [
      {
       "metadata": {},
       "output_type": "pyout",
       "prompt_number": 71,
       "text": [
        "[1,\n",
        " 33287.0,\n",
        " 126.0,\n",
        " 552.0,\n",
        " 41.0,\n",
        " 220.0,\n",
        " 303.0,\n",
        " 583.0,\n",
        " 263.0,\n",
        " 344.0,\n",
        " 449.0,\n",
        " 321.0,\n",
        " 314.0,\n",
        " 248.0,\n",
        " 75781.0,\n",
        " 629.0,\n",
        " 1383.0,\n",
        " 275.0,\n",
        " 347.0,\n",
        " 486.0,\n",
        " 334.0,\n",
        " 262.0,\n",
        " 429.0,\n",
        " 314.0,\n",
        " 364.0,\n",
        " 467.0,\n",
        " 755.0,\n",
        " 385.0,\n",
        " 290.0,\n",
        " 545.0,\n",
        " 394.0,\n",
        " 271.0,\n",
        " 211.0,\n",
        " 213.0,\n",
        " 481.0,\n",
        " 465.0,\n",
        " 677.0,\n",
        " 77538.0,\n",
        " 305.0,\n",
        " 299.0,\n",
        " 357.0,\n",
        " 292.0,\n",
        " 231.0,\n",
        " 247.0,\n",
        " 247.0,\n",
        " 0.0,\n",
        " 277.0,\n",
        " 115.0,\n",
        " 394.0,\n",
        " 395.0,\n",
        " 375.0,\n",
        " 268.0,\n",
        " 144.0,\n",
        " 298.0,\n",
        " 310.0,\n",
        " 227.0,\n",
        " 233.0,\n",
        " 314.0,\n",
        " 330.0,\n",
        " 227.0,\n",
        " 340.0,\n",
        " 314.0,\n",
        " 330.0,\n",
        " 227.0,\n",
        " 339.0,\n",
        " 314.0,\n",
        " 330.0,\n",
        " 227.0,\n",
        " 340.0,\n",
        " 314.0,\n",
        " 330.0,\n",
        " 80857.0,\n",
        " 1207.0,\n",
        " 709.0,\n",
        " 4181.0,\n",
        " 1652.0,\n",
        " 495.0,\n",
        " 329.0,\n",
        " 375.0,\n",
        " 195.0,\n",
        " 299.0,\n",
        " 6141.0,\n",
        " 227.0,\n",
        " 339.0,\n",
        " 315.0,\n",
        " 330.0,\n",
        " 304.0,\n",
        " 375.0,\n",
        " 196.0,\n",
        " 298.0,\n",
        " 333.0,\n",
        " 287.0,\n",
        " 315.0,\n",
        " 261.0,\n",
        " 260.0,\n",
        " 321.0,\n",
        " 343.0,\n",
        " 437.0,\n",
        " 210.0,\n",
        " 231.0]"
       ]
      }
     ],
     "prompt_number": 71
    },
    {
     "cell_type": "code",
     "collapsed": false,
     "input": [],
     "language": "python",
     "metadata": {},
     "outputs": []
    }
   ],
   "metadata": {}
  }
 ]
}