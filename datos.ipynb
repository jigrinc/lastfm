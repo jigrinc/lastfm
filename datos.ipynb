{
 "metadata": {
  "name": "Untitled1"
 },
 "nbformat": 3,
 "nbformat_minor": 0,
 "worksheets": [
  {
   "cells": [
    {
     "cell_type": "raw",
     "metadata": {},
     "source": [
      "Importamos datos"
     ]
    },
    {
     "cell_type": "code",
     "collapsed": false,
     "input": [
      "import pandas as pd\n",
      "wdir = '/home/fernando/Escritorio/Proyecto_mA/lastfm-dataset-1K/'\n",
      "\n",
      "#users = pd.DataFrame.from_csv(wdir + \"userid-profile.tsv\", sep='\\t');\n",
      "plays = pd.read_csv(wdir + \"noIds.tsv\", sep='\\t', header=None, error_bad_lines=False);"
     ],
     "language": "python",
     "metadata": {},
     "outputs": []
    },
    {
     "cell_type": "code",
     "collapsed": false,
     "input": [
      "from datetime import datetime\n",
      "\n",
      "plays.rename(columns={0:'user', 1:'datetime', 2:'artist', 3:'song'}, inplace=True)\n",
      "plays['datetime'] = pd.Series([datetime.strptime(dt,'%Y-%m-%dT%H:%M:%SZ') for dt in plays['datetime']])\n",
      "#plays.sort(['datetime'], ascending=[0], inplace=True)"
     ],
     "language": "python",
     "metadata": {},
     "outputs": [],
     "prompt_number": 2
    },
    {
     "cell_type": "code",
     "collapsed": false,
     "input": [
      "subset = plays\n",
      "df1 = pd.concat([subset.artist, subset.datetime, subset.song], axis=1)"
     ],
     "language": "python",
     "metadata": {},
     "outputs": [],
     "prompt_number": 3
    },
    {
     "cell_type": "code",
     "collapsed": false,
     "input": [
      "df2 = df1.sort('datetime',inplace=True)"
     ],
     "language": "python",
     "metadata": {},
     "outputs": [],
     "prompt_number": 4
    },
    {
     "cell_type": "code",
     "collapsed": false,
     "input": [
      "df2 = df1.set_index(['datetime'])\n"
     ],
     "language": "python",
     "metadata": {},
     "outputs": [],
     "prompt_number": 5
    },
    {
     "cell_type": "code",
     "collapsed": false,
     "input": [
      "df2.head()"
     ],
     "language": "python",
     "metadata": {},
     "outputs": [
      {
       "html": [
        "<div style=\"max-height:1000px;max-width:1500px;overflow:auto;\">\n",
        "<table border=\"1\" class=\"dataframe\">\n",
        "  <thead>\n",
        "    <tr style=\"text-align: right;\">\n",
        "      <th></th>\n",
        "      <th>artist</th>\n",
        "      <th>song</th>\n",
        "    </tr>\n",
        "    <tr>\n",
        "      <th>datetime</th>\n",
        "      <th></th>\n",
        "      <th></th>\n",
        "    </tr>\n",
        "  </thead>\n",
        "  <tbody>\n",
        "    <tr>\n",
        "      <th>2005-02-14 00:00:07</th>\n",
        "      <td>   Starsailor</td>\n",
        "      <td>               Love Is Here</td>\n",
        "    </tr>\n",
        "    <tr>\n",
        "      <th>2005-02-14 00:00:38</th>\n",
        "      <td>  Sui Generis</td>\n",
        "      <td>        Rasgu\u00f1a Las Piedras</td>\n",
        "    </tr>\n",
        "    <tr>\n",
        "      <th>2005-02-14 00:01:44</th>\n",
        "      <td>   Eurythmics</td>\n",
        "      <td>         Love Is A Stranger</td>\n",
        "    </tr>\n",
        "    <tr>\n",
        "      <th>2005-02-14 00:02:10</th>\n",
        "      <td>  The Killers</td>\n",
        "      <td> Jenny Was A Friend Of Mine</td>\n",
        "    </tr>\n",
        "    <tr>\n",
        "      <th>2005-02-14 00:02:40</th>\n",
        "      <td> Anton Maiden</td>\n",
        "      <td>                Revelations</td>\n",
        "    </tr>\n",
        "  </tbody>\n",
        "</table>\n",
        "</div>"
       ],
       "output_type": "pyout",
       "prompt_number": 6,
       "text": [
        "                           artist                        song\n",
        "datetime                                                     \n",
        "2005-02-14 00:00:07    Starsailor                Love Is Here\n",
        "2005-02-14 00:00:38   Sui Generis         Rasgu\u00f1a Las Piedras\n",
        "2005-02-14 00:01:44    Eurythmics          Love Is A Stranger\n",
        "2005-02-14 00:02:10   The Killers  Jenny Was A Friend Of Mine\n",
        "2005-02-14 00:02:40  Anton Maiden                 Revelations"
       ]
      }
     ],
     "prompt_number": 6
    },
    {
     "cell_type": "raw",
     "metadata": {},
     "source": [
      "Formamos dataframes por a\u00f1o"
     ]
    },
    {
     "cell_type": "code",
     "collapsed": false,
     "input": [
      "df2005 = df2['2005-01-01':'2005-12-31']\n",
      "df2006 = df2['2006-01-01':'2006-12-31']\n",
      "df2007 = df2['2007-01-01':'2007-12-31']\n",
      "df2008 = df2['2008-01-01':'2008-12-31']\n",
      "df2009 = df2['2009-01-01':'2009-12-31']"
     ],
     "language": "python",
     "metadata": {},
     "outputs": [],
     "prompt_number": 11
    },
    {
     "cell_type": "raw",
     "metadata": {},
     "source": [
      "Agrupamos por artista y por semana, para cada a\u00f1o... (faltan)"
     ]
    },
    {
     "cell_type": "code",
     "collapsed": false,
     "input": [
      "group2005 = df2005.groupby(['artist',df2005.index.map(lambda x: x.week)]).count()\n",
      "dat2005 = group2005.reset_index(level = 1, inplace=True)\n",
      "dat2005 = group2005[['level_1','song']]\n",
      "dat2005.reset_index(level = 0, inplace=True)\n",
      "dat2005.columns = ['artist','week','plays']\n",
      "dat2005.sort(['week'],inplace=True)"
     ],
     "language": "python",
     "metadata": {},
     "outputs": []
    },
    {
     "cell_type": "code",
     "collapsed": false,
     "input": [
      "group2006 = df2006.groupby(['artist',df2006.index.map(lambda x: x.week)]).count()\n",
      "dat2006 = group2006.reset_index(level = 1, inplace=True)\n",
      "dat2006 = group2006[['level_1','song']]\n",
      "dat2006.reset_index(level = 0, inplace=True)\n",
      "dat2006.columns = ['artist','week','plays']\n",
      "dat2006.sort(['week'],inplace=True)\n"
     ],
     "language": "python",
     "metadata": {},
     "outputs": [],
     "prompt_number": 83
    },
    {
     "cell_type": "raw",
     "metadata": {},
     "source": [
      "Ejemplo de datos para Muse, 2005, 2006"
     ]
    },
    {
     "cell_type": "code",
     "collapsed": false,
     "input": [
      "from pylab import *\n",
      "\n",
      "x = dat2005[dat2005['artist'] == \"Muse\"].week\n",
      "x2 = dat2006[dat2006['artist'] == \"Muse\"].week\n",
      "y = dat2005[dat2005['artist'] == \"Muse\"].plays\n",
      "y2 = dat2006[dat2006['artist'] == \"Muse\"].plays\n",
      "fig, ax = plt.subplots()\n",
      "\n",
      "ax.plot(x, y, label = \"2005\")\n",
      "ax.plot(x2, y2, label = \"2006\")\n",
      "ax.legend(loc=2); \n",
      "show()"
     ],
     "language": "python",
     "metadata": {},
     "outputs": [],
     "prompt_number": 96
    }
   ],
   "metadata": {}
  }
 ]
}