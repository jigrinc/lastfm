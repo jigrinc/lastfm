{
 "metadata": {
  "name": "Untitled1"
 },
 "nbformat": 3,
 "nbformat_minor": 0,
 "worksheets": [
  {
   "cells": [
    {
     "cell_type": "raw",
     "metadata": {},
     "source": [
      "Importamos datos"
     ]
    },
    {
     "cell_type": "code",
     "collapsed": false,
     "input": [
      "import pandas as pd\n",
      "wdir = '/home/fernando/Escritorio/Proyecto_mA/lastfm-dataset-1K/'\n",
      "\n",
      "#users = pd.DataFrame.from_csv(wdir + \"userid-profile.tsv\", sep='\\t');\n",
      "plays = pd.read_csv(wdir + \"noIds.tsv\", sep='\\t', header=None, error_bad_lines=False);"
     ],
     "language": "python",
     "metadata": {},
     "outputs": []
    },
    {
     "cell_type": "code",
     "collapsed": false,
     "input": [
      "from datetime import datetime\n",
      "\n",
      "plays.rename(columns={0:'user', 1:'datetime', 2:'artist', 3:'song'}, inplace=True)\n",
      "plays['datetime'] = pd.Series([datetime.strptime(dt,'%Y-%m-%dT%H:%M:%SZ') for dt in plays['datetime']])\n",
      "#plays.sort(['datetime'], ascending=[0], inplace=True)"
     ],
     "language": "python",
     "metadata": {},
     "outputs": [],
     "prompt_number": 2
    },
    {
     "cell_type": "code",
     "collapsed": false,
     "input": [
      "subset = plays\n",
      "df1 = pd.concat([subset.artist, subset.datetime, subset.song], axis=1)"
     ],
     "language": "python",
     "metadata": {},
     "outputs": [],
     "prompt_number": 3
    },
    {
     "cell_type": "code",
     "collapsed": false,
     "input": [
      "df2 = df1.sort('datetime',inplace=True)"
     ],
     "language": "python",
     "metadata": {},
     "outputs": [],
     "prompt_number": 4
    },
    {
     "cell_type": "code",
     "collapsed": false,
     "input": [
      "df2 = df1.set_index(['datetime'])\n"
     ],
     "language": "python",
     "metadata": {},
     "outputs": [],
     "prompt_number": 5
    },
    {
     "cell_type": "code",
     "collapsed": false,
     "input": [
      "df2.head()"
     ],
     "language": "python",
     "metadata": {},
     "outputs": [
      {
       "html": [
        "<div style=\"max-height:1000px;max-width:1500px;overflow:auto;\">\n",
        "<table border=\"1\" class=\"dataframe\">\n",
        "  <thead>\n",
        "    <tr style=\"text-align: right;\">\n",
        "      <th></th>\n",
        "      <th>artist</th>\n",
        "      <th>song</th>\n",
        "    </tr>\n",
        "    <tr>\n",
        "      <th>datetime</th>\n",
        "      <th></th>\n",
        "      <th></th>\n",
        "    </tr>\n",
        "  </thead>\n",
        "  <tbody>\n",
        "    <tr>\n",
        "      <th>2005-02-14 00:00:07</th>\n",
        "      <td>   Starsailor</td>\n",
        "      <td>               Love Is Here</td>\n",
        "    </tr>\n",
        "    <tr>\n",
        "      <th>2005-02-14 00:00:38</th>\n",
        "      <td>  Sui Generis</td>\n",
        "      <td>        Rasgu\u00f1a Las Piedras</td>\n",
        "    </tr>\n",
        "    <tr>\n",
        "      <th>2005-02-14 00:01:44</th>\n",
        "      <td>   Eurythmics</td>\n",
        "      <td>         Love Is A Stranger</td>\n",
        "    </tr>\n",
        "    <tr>\n",
        "      <th>2005-02-14 00:02:10</th>\n",
        "      <td>  The Killers</td>\n",
        "      <td> Jenny Was A Friend Of Mine</td>\n",
        "    </tr>\n",
        "    <tr>\n",
        "      <th>2005-02-14 00:02:40</th>\n",
        "      <td> Anton Maiden</td>\n",
        "      <td>                Revelations</td>\n",
        "    </tr>\n",
        "  </tbody>\n",
        "</table>\n",
        "</div>"
       ],
       "output_type": "pyout",
       "prompt_number": 6,
       "text": [
        "                           artist                        song\n",
        "datetime                                                     \n",
        "2005-02-14 00:00:07    Starsailor                Love Is Here\n",
        "2005-02-14 00:00:38   Sui Generis         Rasgu\u00f1a Las Piedras\n",
        "2005-02-14 00:01:44    Eurythmics          Love Is A Stranger\n",
        "2005-02-14 00:02:10   The Killers  Jenny Was A Friend Of Mine\n",
        "2005-02-14 00:02:40  Anton Maiden                 Revelations"
       ]
      }
     ],
     "prompt_number": 6
    },
    {
     "cell_type": "raw",
     "metadata": {},
     "source": [
      "Formamos dataframes por a\u00f1o"
     ]
    },
    {
     "cell_type": "code",
     "collapsed": false,
     "input": [
      "df2005 = df2['2005-01-01':'2005-12-31']\n",
      "df2006 = df2['2006-01-01':'2006-12-31']\n",
      "df2007 = df2['2007-01-01':'2007-12-31']\n",
      "df2008 = df2['2008-01-01':'2008-12-31']\n",
      "df2009 = df2['2009-01-01':'2009-12-31']"
     ],
     "language": "python",
     "metadata": {},
     "outputs": [],
     "prompt_number": 11
    },
    {
     "cell_type": "raw",
     "metadata": {},
     "source": [
      "Agrupamos por artista y por semana, para cada a\u00f1o... (faltan)"
     ]
    },
    {
     "cell_type": "code",
     "collapsed": false,
     "input": [
      "group2005 = df2005.groupby(['artist',df2005.index.map(lambda x: x.week)]).count()\n",
      "dat2005 = group2005.reset_index(level = 1, inplace=True)\n",
      "dat2005 = group2005[['level_1','song']]\n",
      "dat2005.reset_index(level = 0, inplace=True)\n",
      "dat2005.columns = ['artist','week','plays']\n",
      "dat2005.sort(['week'],inplace=True)"
     ],
     "language": "python",
     "metadata": {},
     "outputs": []
    },
    {
     "cell_type": "code",
     "collapsed": false,
     "input": [
      "group2006 = df2006.groupby(['artist',df2006.index.map(lambda x: x.week)]).count()\n",
      "dat2006 = group2006.reset_index(level = 1, inplace=True)\n",
      "dat2006 = group2006[['level_1','song']]\n",
      "dat2006.reset_index(level = 0, inplace=True)\n",
      "dat2006.columns = ['artist','week','plays']\n",
      "dat2006.sort(['week'],inplace=True)\n"
     ],
     "language": "python",
     "metadata": {},
     "outputs": [],
     "prompt_number": 83
    },
    {
     "cell_type": "code",
     "collapsed": false,
     "input": [
      "group2007 = df2007.groupby(['artist',df2007.index.map(lambda x: x.week)]).count()\n",
      "dat2007 = group2007.reset_index(level = 1, inplace=True)\n",
      "dat2007 = group2007[['level_1','song']]\n",
      "dat2007.reset_index(level = 0, inplace=True)\n",
      "dat2007.columns = ['artist','week','plays']\n",
      "dat2007.sort(['week'],inplace=True)"
     ],
     "language": "python",
     "metadata": {},
     "outputs": [],
     "prompt_number": 97
    },
    {
     "cell_type": "code",
     "collapsed": false,
     "input": [
      "group2008 = df2008.groupby(['artist',df2008.index.map(lambda x: x.week)]).count()\n",
      "dat2008 = group2008.reset_index(level = 1, inplace=True)\n",
      "dat2008 = group2008[['level_1','song']]\n",
      "dat2008.reset_index(level = 0, inplace=True)\n",
      "dat2008.columns = ['artist','week','plays']\n",
      "dat2008.sort(['week'],inplace=True)"
     ],
     "language": "python",
     "metadata": {},
     "outputs": [],
     "prompt_number": 98
    },
    {
     "cell_type": "code",
     "collapsed": false,
     "input": [
      "group2009= df2009.groupby(['artist',df2009.index.map(lambda x: x.week)]).count()\n",
      "dat2009 = group2009.reset_index(level = 1, inplace=True)\n",
      "dat2009 = group2009[['level_1','song']]\n",
      "dat2009.reset_index(level = 0, inplace=True)\n",
      "dat2009.columns = ['artist','week','plays']\n",
      "dat2009.sort(['week'],inplace=True)"
     ],
     "language": "python",
     "metadata": {},
     "outputs": [],
     "prompt_number": 99
    },
    {
     "cell_type": "raw",
     "metadata": {},
     "source": [
      "COMPARACIONES ENTRE ARTISTAS"
     ]
    },
    {
     "cell_type": "code",
     "collapsed": false,
     "input": [
      "import numpy\n",
      "d06a = dat2006\n",
      "d06a[['week']] += 52\n",
      "\n",
      "d07a = dat2007\n",
      "d07a[['week']] += 52*2\n",
      "d08a = dat2008\n",
      "d08a[['week']] += 52*3\n",
      "d09a = dat2009\n",
      "d09a[['week']] += 52*4\n",
      "\n"
     ],
     "language": "python",
     "metadata": {},
     "outputs": [],
     "prompt_number": 166
    },
    {
     "cell_type": "code",
     "collapsed": false,
     "input": [
      "\n",
      "def getdata(artista):\n",
      "    aggArt = pd.concat([dat2005[dat2005['artist'] == artista], d06a[d06a['artist'] == artista],d07a[d07a['artist'] == artista],d08a[d08a['artist'] == artista],d09a[d09a['artist'] == artista]])\n",
      "    return aggArt"
     ],
     "language": "python",
     "metadata": {},
     "outputs": [],
     "prompt_number": 187
    },
    {
     "cell_type": "code",
     "collapsed": false,
     "input": [
      "from pylab import *\n",
      "a1 = \"The Killers\"\n",
      "a2 = \"Coldplay\"\n",
      "x = getdata(a1).week\n",
      "y = getdata(a1).plays\n",
      "x2 = getdata(a2).week\n",
      "y2 = getdata(a2).plays\n",
      "fig, ax = plt.subplots()\n",
      "\n",
      "ax.plot(x, y, label = a1)\n",
      "ax.plot(x2,y2, label = a2)\n",
      "ax.legend()\n",
      "show()"
     ],
     "language": "python",
     "metadata": {},
     "outputs": [],
     "prompt_number": 195
    },
    {
     "cell_type": "raw",
     "metadata": {},
     "source": [
      "TODO LO DE AQUI ABAJO ES PRUEBA"
     ]
    },
    {
     "cell_type": "code",
     "collapsed": false,
     "input": [
      "import sys\n",
      "from numpy import NaN, Inf, arange, isscalar, asarray, array\n",
      " \n",
      "def peakdet(v, delta, x = None):\n",
      "    \"\"\"\n",
      "    Converted from MATLAB script at http://billauer.co.il/peakdet.html\n",
      "    \n",
      "    Returns two arrays\n",
      "    \n",
      "    function [maxtab, mintab]=peakdet(v, delta, x)\n",
      "    %PEAKDET Detect peaks in a vector\n",
      "    %        [MAXTAB, MINTAB] = PEAKDET(V, DELTA) finds the local\n",
      "    %        maxima and minima (\"peaks\") in the vector V.\n",
      "    %        MAXTAB and MINTAB consists of two columns. Column 1\n",
      "    %        contains indices in V, and column 2 the found values.\n",
      "    %      \n",
      "    %        With [MAXTAB, MINTAB] = PEAKDET(V, DELTA, X) the indices\n",
      "    %        in MAXTAB and MINTAB are replaced with the corresponding\n",
      "    %        X-values.\n",
      "    %\n",
      "    %        A point is considered a maximum peak if it has the maximal\n",
      "    %        value, and was preceded (to the left) by a value lower by\n",
      "    %        DELTA.\n",
      "    \n",
      "    % Eli Billauer, 3.4.05 (Explicitly not copyrighted).\n",
      "    % This function is released to the public domain; Any use is allowed.\n",
      "    \n",
      "    \"\"\"\n",
      "    maxtab = []\n",
      "    mintab = []\n",
      "       \n",
      "    if x is None:\n",
      "        x = arange(len(v))\n",
      "    \n",
      "    v = asarray(v)\n",
      "    \n",
      "    if len(v) != len(x):\n",
      "        sys.exit('Input vectors v and x must have same length')\n",
      "    \n",
      "    if not isscalar(delta):\n",
      "        sys.exit('Input argument delta must be a scalar')\n",
      "    \n",
      "    if delta <= 0:\n",
      "        sys.exit('Input argument delta must be positive')\n",
      "    \n",
      "    mn, mx = Inf, -Inf\n",
      "    mnpos, mxpos = NaN, NaN\n",
      "    \n",
      "    lookformax = True\n",
      "    \n",
      "    for i in arange(len(v)):\n",
      "        this = v[i]\n",
      "        if this > mx:\n",
      "            mx = this\n",
      "            mxpos = x[i]\n",
      "        if this < mn:\n",
      "            mn = this\n",
      "            mnpos = x[i]\n",
      "        \n",
      "        if lookformax:\n",
      "            if this < mx-delta:\n",
      "                maxtab.append((mxpos, mx))\n",
      "                mn = this\n",
      "                mnpos = x[i]\n",
      "                lookformax = False\n",
      "        else:\n",
      "            if this > mn+delta:\n",
      "                mintab.append((mnpos, mn))\n",
      "                mx = this\n",
      "                mxpos = x[i]\n",
      "                lookformax = True\n",
      " \n",
      "    return array(maxtab), array(mintab)\n",
      " \n",
      "if __name__==\"__main__\":\n",
      "    from matplotlib.pyplot import plot, scatter, show\n",
      "    series = dat2005.plays\n",
      "    maxtab, mintab = peakdet(series,dat2005.plays.mean())\n",
      "    plot(series)\n",
      "    scatter(array(maxtab)[:,0], array(maxtab)[:,1], color='blue')\n",
      "    scatter(array(mintab)[:,0], array(mintab)[:,1], color='red')\n",
      "    show()"
     ],
     "language": "python",
     "metadata": {},
     "outputs": [],
     "prompt_number": 113
    },
    {
     "cell_type": "code",
     "collapsed": false,
     "input": [
      "import numpy as np\n",
      "import matplotlib.pyplot as plt\n",
      "from scipy.optimize import curve_fit\n",
      "\n",
      "def func(x, a, b, c):\n",
      "    return a * np.exp(-b * x) + c\n",
      "\n",
      "x = dat2005.week\n",
      "y = dat2005.plays\n",
      "yn = y\n",
      "\n",
      "popt, pcov = curve_fit(func, x, yn)\n",
      "plt.figure()\n",
      "plt.plot(x, yn, 'ko', label=\"Original Noised Data\")\n",
      "plt.plot(x, func(x, *popt), 'r-', label=\"Fitted Curve\")\n",
      "plt.legend()\n",
      "plt.show()"
     ],
     "language": "python",
     "metadata": {},
     "outputs": [],
     "prompt_number": 120
    },
    {
     "cell_type": "code",
     "collapsed": false,
     "input": [
      "import powerlaw\n",
      "data = dat2005.plays #data can be list or Numpy array\n",
      "results = powerlaw.Fit(data)\n",
      "from pylab import *\n",
      "figure(1)\n",
      "results.plotpdf()\n",
      "print results.power_law.alpha\n",
      "print results.power_law.xmin\n",
      "R, p = results.distribution_compare('power_law', 'lognormal')"
     ],
     "language": "python",
     "metadata": {},
     "outputs": [
      {
       "ename": "AttributeError",
       "evalue": "plotpdf",
       "output_type": "pyerr",
       "traceback": [
        "\u001b[0;31m---------------------------------------------------------------------------\u001b[0m\n\u001b[0;31mAttributeError\u001b[0m                            Traceback (most recent call last)",
        "\u001b[0;32m<ipython-input-125-b463273ed93d>\u001b[0m in \u001b[0;36m<module>\u001b[0;34m()\u001b[0m\n\u001b[1;32m      4\u001b[0m \u001b[0;32mfrom\u001b[0m \u001b[0mpylab\u001b[0m \u001b[0;32mimport\u001b[0m \u001b[0;34m*\u001b[0m\u001b[0;34m\u001b[0m\u001b[0m\n\u001b[1;32m      5\u001b[0m \u001b[0mfigure\u001b[0m\u001b[0;34m(\u001b[0m\u001b[0;36m1\u001b[0m\u001b[0;34m)\u001b[0m\u001b[0;34m\u001b[0m\u001b[0m\n\u001b[0;32m----> 6\u001b[0;31m \u001b[0mresults\u001b[0m\u001b[0;34m.\u001b[0m\u001b[0mplotpdf\u001b[0m\u001b[0;34m(\u001b[0m\u001b[0;34m)\u001b[0m\u001b[0;34m\u001b[0m\u001b[0m\n\u001b[0m\u001b[1;32m      7\u001b[0m \u001b[0;32mprint\u001b[0m \u001b[0mresults\u001b[0m\u001b[0;34m.\u001b[0m\u001b[0mpower_law\u001b[0m\u001b[0;34m.\u001b[0m\u001b[0malpha\u001b[0m\u001b[0;34m\u001b[0m\u001b[0m\n\u001b[1;32m      8\u001b[0m \u001b[0;32mprint\u001b[0m \u001b[0mresults\u001b[0m\u001b[0;34m.\u001b[0m\u001b[0mpower_law\u001b[0m\u001b[0;34m.\u001b[0m\u001b[0mxmin\u001b[0m\u001b[0;34m\u001b[0m\u001b[0m\n",
        "\u001b[0;32m/usr/local/lib/python2.7/dist-packages/powerlaw.pyc\u001b[0m in \u001b[0;36m__getattr__\u001b[0;34m(self, name)\u001b[0m\n\u001b[1;32m    156\u001b[0m             \u001b[0;32mreturn\u001b[0m \u001b[0mgetattr\u001b[0m\u001b[0;34m(\u001b[0m\u001b[0mself\u001b[0m\u001b[0;34m,\u001b[0m \u001b[0mname\u001b[0m\u001b[0;34m)\u001b[0m\u001b[0;34m\u001b[0m\u001b[0m\n\u001b[1;32m    157\u001b[0m         \u001b[0;32melse\u001b[0m\u001b[0;34m:\u001b[0m\u001b[0;34m\u001b[0m\u001b[0m\n\u001b[0;32m--> 158\u001b[0;31m             \u001b[0;32mraise\u001b[0m \u001b[0mAttributeError\u001b[0m\u001b[0;34m(\u001b[0m\u001b[0mname\u001b[0m\u001b[0;34m)\u001b[0m\u001b[0;34m\u001b[0m\u001b[0m\n\u001b[0m\u001b[1;32m    159\u001b[0m \u001b[0;34m\u001b[0m\u001b[0m\n\u001b[1;32m    160\u001b[0m     \u001b[0;32mdef\u001b[0m \u001b[0mfind_xmin\u001b[0m\u001b[0;34m(\u001b[0m\u001b[0mself\u001b[0m\u001b[0;34m,\u001b[0m \u001b[0mxmin_distance\u001b[0m\u001b[0;34m=\u001b[0m\u001b[0mNone\u001b[0m\u001b[0;34m)\u001b[0m\u001b[0;34m:\u001b[0m\u001b[0;34m\u001b[0m\u001b[0m\n",
        "\u001b[0;31mAttributeError\u001b[0m: plotpdf"
       ]
      },
      {
       "output_type": "stream",
       "stream": "stdout",
       "text": [
        "Calculating best minimal value for power law fit\n"
       ]
      }
     ],
     "prompt_number": 125
    },
    {
     "cell_type": "code",
     "collapsed": false,
     "input": [
      "results"
     ],
     "language": "python",
     "metadata": {},
     "outputs": [
      {
       "output_type": "pyout",
       "prompt_number": 126,
       "text": [
        "<powerlaw.Fit at 0x407cf8d0>"
       ]
      }
     ],
     "prompt_number": 126
    }
   ],
   "metadata": {}
  }
 ]
}